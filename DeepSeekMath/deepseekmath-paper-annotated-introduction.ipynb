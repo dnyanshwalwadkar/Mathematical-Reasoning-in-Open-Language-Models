{
 "cells": [
  {
   "cell_type": "markdown",
   "id": "274ab1f9",
   "metadata": {
    "papermill": {
     "duration": 0.018784,
     "end_time": "2024-04-30T19:03:46.764770",
     "exception": false,
     "start_time": "2024-04-30T19:03:46.745986",
     "status": "completed"
    },
    "tags": []
   },
   "source": [
    "# Preliminaris\n",
    "\n",
    "I'm experimenting with this notebook format. While reading a paper relevant to a competition, I try to annotate it to make the content more accessible. It's a work in progress that I will continue to update and put effort into, should there be any interest\n",
    "\n",
    "I'm also reading and annotating the Gemma paper you can look it:\n",
    "\n",
    "https://www.kaggle.com/code/cescofran/gemma-paper-annottated-introduction\n",
    "\n",
    "[update] I recently wrote a post to ask for suggestion for a new paper introduction \n",
    "to annotate https://www.kaggle.com/competitions/ai-mathematical-olympiad-prize/discussion/497932\n",
    "\n",
    "### Critical Reading\n",
    "\n",
    "Rember you should have a strong critical reading on this material, since\n",
    "\n",
    "1. There are some parts I'm far from beeing an expert.\n",
    "2. I try to enhance my understanding as I read, so I can annotate my state of knowledge about a line at that moment and then revise and correct it later.\n",
    "\n",
    "For those reading their first academic papers, remember that critical reading is essential even for the papers themself, especially since research in this field (often lead by privite company) can often have significant financial consequences."
   ]
  },
  {
   "cell_type": "markdown",
   "id": "102ee246",
   "metadata": {
    "papermill": {
     "duration": 0.017589,
     "end_time": "2024-04-30T19:03:46.799439",
     "exception": false,
     "start_time": "2024-04-30T19:03:46.781850",
     "status": "completed"
    },
    "tags": []
   },
   "source": [
    "# DeepSeekMath: Pushing the Limits of Mathematical Reasoning in Open Language Models"
   ]
  },
  {
   "cell_type": "code",
   "execution_count": 1,
   "id": "7c903f54",
   "metadata": {
    "_kg_hide-input": true,
    "execution": {
     "iopub.execute_input": "2024-04-30T19:03:46.834524Z",
     "iopub.status.busy": "2024-04-30T19:03:46.833297Z",
     "iopub.status.idle": "2024-04-30T19:03:46.848760Z",
     "shell.execute_reply": "2024-04-30T19:03:46.847803Z"
    },
    "papermill": {
     "duration": 0.035696,
     "end_time": "2024-04-30T19:03:46.851211",
     "exception": false,
     "start_time": "2024-04-30T19:03:46.815515",
     "status": "completed"
    },
    "tags": []
   },
   "outputs": [
    {
     "data": {
      "text/html": [
       "<img src=\"https://github.com/deepseek-ai/DeepSeek-Math/raw/main/images/logo.svg\" width=\"1400\"/>"
      ],
      "text/plain": [
       "<IPython.core.display.Image object>"
      ]
     },
     "execution_count": 1,
     "metadata": {},
     "output_type": "execute_result"
    }
   ],
   "source": [
    "from IPython.display import Image\n",
    "Image(url='https://github.com/deepseek-ai/DeepSeek-Math/raw/main/images/logo.svg', width=1400)"
   ]
  },
  {
   "cell_type": "markdown",
   "id": "7b0c8f1b",
   "metadata": {
    "papermill": {
     "duration": 0.016045,
     "end_time": "2024-04-30T19:03:46.884227",
     "exception": false,
     "start_time": "2024-04-30T19:03:46.868182",
     "status": "completed"
    },
    "tags": []
   },
   "source": [
    "# Paragraph 1 "
   ]
  },
  {
   "cell_type": "markdown",
   "id": "bdbd4c78",
   "metadata": {
    "papermill": {
     "duration": 0.016115,
     "end_time": "2024-04-30T19:03:46.916685",
     "exception": false,
     "start_time": "2024-04-30T19:03:46.900570",
     "status": "completed"
    },
    "tags": []
   },
   "source": [
    "<div style=\"border:1px solid black; padding:10px;\">\n",
    "\n",
    "<span style=\"color:blue\"> [L1] </span> Large language models (LLM) have revolutionized the approach to mathematical reasoning in artificial intelligence, spurring significant advancements in both the  <strong>quantitative reasoning benchmark</strong>(Hendrycks et al., 2021) and the <strong>geometry reasoning benchmark</strong> (Trinh et al., 2024). \n",
    "  \n",
    "</div>\n"
   ]
  },
  {
   "cell_type": "markdown",
   "id": "54086dcb",
   "metadata": {
    "papermill": {
     "duration": 0.015946,
     "end_time": "2024-04-30T19:03:46.948995",
     "exception": false,
     "start_time": "2024-04-30T19:03:46.933049",
     "status": "completed"
    },
    "tags": []
   },
   "source": [
    "#### Hendrycks et al., 2021\n",
    "\n",
    "Measuring mathematical problem solving with the math dataset\n",
    "\n",
    "> \"To measure this ability in machine learning models, we introduce MATH, a new dataset of 12,500 challenging competition mathematics problems.\" (from the abstract)\n",
    "\n",
    "#### Trinh et al., 2024\n",
    "\n",
    "Solving olympiad geometry without human demonstrations.\n",
    "\n",
    "> \"We propose AlphaGeometry, a theorem prover for Euclidean plane geometry that sidesteps the need for human demonstrations by synthesizing millions of theorems and proofs across different levels of complexity.\" (from the abstract)\n"
   ]
  },
  {
   "cell_type": "markdown",
   "id": "f5d82fae",
   "metadata": {
    "papermill": {
     "duration": 0.015911,
     "end_time": "2024-04-30T19:03:46.981232",
     "exception": false,
     "start_time": "2024-04-30T19:03:46.965321",
     "status": "completed"
    },
    "tags": []
   },
   "source": [
    "<div style=\"border:1px solid black; padding:10px;\">\n",
    "<span style=\"color:blue\"> [L2] </span> Moreover, these models have proven instrumental in assisting humans in <strong>solving complex mathematical</strong> problems (Tao, 2023).\n",
    "</div>"
   ]
  },
  {
   "cell_type": "markdown",
   "id": "6fa0cfa1",
   "metadata": {
    "papermill": {
     "duration": 0.016007,
     "end_time": "2024-04-30T19:03:47.013615",
     "exception": false,
     "start_time": "2024-04-30T19:03:46.997608",
     "status": "completed"
    },
    "tags": []
   },
   "source": [
    "#### Tao, 2023\n",
    "\n",
    "Embracing change and resetting expectations\n",
    "\n",
    "https://unlocked.microsoft.com/ai-anthology/terence-tao/\n",
    "\n",
    "Note that Terance Tao is a Mahematician\n",
    "\n",
    "https://en.wikipedia.org/wiki/Terence_Tao\n",
    "\n",
    "> \"Current large language models (LLM) can often persuasively mimic correct expert response in a given knowledge domain (such as my own, research mathematics). But as is infamously known, the response often consists of nonsense when inspected closely\" (from the blog post)\n"
   ]
  },
  {
   "cell_type": "markdown",
   "id": "ba0b6d7c",
   "metadata": {
    "papermill": {
     "duration": 0.015801,
     "end_time": "2024-04-30T19:03:47.045494",
     "exception": false,
     "start_time": "2024-04-30T19:03:47.029693",
     "status": "completed"
    },
    "tags": []
   },
   "source": [
    "<div style=\"border:1px solid black; padding:10px;\">\n",
    "<span style=\"color:blue\"> [L3] </span> However, cutting-edge models such as <strong>GPT-4</strong> (OpenAI, 2023) and <strong>Gemini-Ultra</strong> (Anil et al., 2023) are not publicly available, and the currently accessible open-source models considerably trail behind in performance.\n",
    "</div>"
   ]
  },
  {
   "cell_type": "markdown",
   "id": "de586dd1",
   "metadata": {
    "papermill": {
     "duration": 0.015828,
     "end_time": "2024-04-30T19:03:47.077537",
     "exception": false,
     "start_time": "2024-04-30T19:03:47.061709",
     "status": "completed"
    },
    "tags": []
   },
   "source": [
    "This paper has ben written probably after the announcing of Gemma (Gemma paper submitted on 13 Mar 2024) so is not clear if authors could quoted Gemma here.\n",
    "\n",
    "https://arxiv.org/abs/2403.08295"
   ]
  },
  {
   "cell_type": "markdown",
   "id": "81b4b4e3",
   "metadata": {
    "papermill": {
     "duration": 0.016054,
     "end_time": "2024-04-30T19:03:47.110353",
     "exception": false,
     "start_time": "2024-04-30T19:03:47.094299",
     "status": "completed"
    },
    "tags": []
   },
   "source": [
    "# Paragraph 2"
   ]
  },
  {
   "cell_type": "markdown",
   "id": "0aeddfb1",
   "metadata": {
    "papermill": {
     "duration": 0.017489,
     "end_time": "2024-04-30T19:03:47.143945",
     "exception": false,
     "start_time": "2024-04-30T19:03:47.126456",
     "status": "completed"
    },
    "tags": []
   },
   "source": [
    "<div style=\"border:1px solid black; padding:10px;\">\n",
    "<span style=\"color:blue\"> [L1] </span>  In this study, we introduce DeepSeekMath, a <strong>domain-specific language model</strong> that significantly <strong>outperforms</strong> the mathematical capabilities of <strong>open-source models</strong> and <strong>approaches</strong> the performance level of <strong>GPT-4</strong> on academic benchmarks.\n",
    "</div>"
   ]
  },
  {
   "cell_type": "markdown",
   "id": "a4f010d8",
   "metadata": {
    "papermill": {
     "duration": 0.01627,
     "end_time": "2024-04-30T19:03:47.176755",
     "exception": false,
     "start_time": "2024-04-30T19:03:47.160485",
     "status": "completed"
    },
    "tags": []
   },
   "source": [
    "<div style=\"border:1px solid black; padding:10px;\">\n",
    "<span style=\"color:blue\"> [L2] </span> To achieve this, we create the <strong>DeepSeek-Math Corpus</strong>, a large-scale high-quality pre-training corpus comprising <strong>120B math tokens</strong>.\n",
    "</div>"
   ]
  },
  {
   "cell_type": "markdown",
   "id": "85e24284",
   "metadata": {
    "papermill": {
     "duration": 0.016137,
     "end_time": "2024-04-30T19:03:47.209321",
     "exception": false,
     "start_time": "2024-04-30T19:03:47.193184",
     "status": "completed"
    },
    "tags": []
   },
   "source": [
    "#### 120B math tokens\n",
    "\n",
    "B stand for Bilions, to compare with preceding and succesive open models.\n",
    "LLame 2 declare to be trained on 2 Trillion tokens and Gemma have a model with 7 Trillion, \n",
    "but consider that here we are talking of math tokens, so probably token which belong to math text."
   ]
  },
  {
   "cell_type": "markdown",
   "id": "8a7f693c",
   "metadata": {
    "papermill": {
     "duration": 0.016014,
     "end_time": "2024-04-30T19:03:47.241738",
     "exception": false,
     "start_time": "2024-04-30T19:03:47.225724",
     "status": "completed"
    },
    "tags": []
   },
   "source": [
    "\n",
    "<div style=\"border:1px solid black; padding:10px;\">\n",
    "\n",
    "<span style=\"color:blue\"> [L3] </span> \n",
    "This dataset is extracted from the <strong>Common Crawl</strong> (CC) using a fastText-based classifier (Joulin et al.,2016).\n",
    "</div>"
   ]
  },
  {
   "cell_type": "markdown",
   "id": "32c4b44f",
   "metadata": {
    "papermill": {
     "duration": 0.016229,
     "end_time": "2024-04-30T19:03:47.275464",
     "exception": false,
     "start_time": "2024-04-30T19:03:47.259235",
     "status": "completed"
    },
    "tags": []
   },
   "source": [
    "#### Common Crawl\n",
    "\n",
    "> Common Crawl's web archive consists of petabytes of data collected since 2008. (Wikipeida)"
   ]
  },
  {
   "cell_type": "markdown",
   "id": "2d6283d9",
   "metadata": {
    "execution": {
     "iopub.execute_input": "2024-04-22T19:05:27.470945Z",
     "iopub.status.busy": "2024-04-22T19:05:27.470457Z",
     "iopub.status.idle": "2024-04-22T19:05:27.488599Z",
     "shell.execute_reply": "2024-04-22T19:05:27.486334Z",
     "shell.execute_reply.started": "2024-04-22T19:05:27.470916Z"
    },
    "papermill": {
     "duration": 0.01734,
     "end_time": "2024-04-30T19:03:47.310280",
     "exception": false,
     "start_time": "2024-04-30T19:03:47.292940",
     "status": "completed"
    },
    "tags": []
   },
   "source": [
    "<div style=\"border:1px solid black; padding:10px;\">\n",
    "\n",
    "<span style=\"color:blue\"> [L4] </span> \n",
    "In the initial iteration, the classifier is trained using instances from <strong>OpenWebMath</strong> (Pasteret al., 2023) as positive examples, while incorporating a diverse selection of other web pages to serve as negative examples.\n",
    "</div>"
   ]
  },
  {
   "cell_type": "markdown",
   "id": "ac01469c",
   "metadata": {
    "papermill": {
     "duration": 0.017465,
     "end_time": "2024-04-30T19:03:47.344469",
     "exception": false,
     "start_time": "2024-04-30T19:03:47.327004",
     "status": "completed"
    },
    "tags": []
   },
   "source": [
    "#### OpenWebMath\n",
    "\n",
    "> We introduce OpenWebMath, an open dataset inspired by these works containing 14.7B tokens of mathematical webpages from Common Crawl.  (abstract)\n"
   ]
  },
  {
   "cell_type": "markdown",
   "id": "9fbef802",
   "metadata": {
    "papermill": {
     "duration": 0.016296,
     "end_time": "2024-04-30T19:03:47.446500",
     "exception": false,
     "start_time": "2024-04-30T19:03:47.430204",
     "status": "completed"
    },
    "tags": []
   },
   "source": [
    "<div style=\"border:1px solid black; padding:10px;\">\n",
    "\n",
    "<span style=\"color:blue\"> [L5] </span> \n",
    "Subsequently, we employ the classifier to <strong>mine additional positive</strong> instances from the CC, which are further <span>refined through human annotation</strong>.  \n",
    "</div>"
   ]
  },
  {
   "cell_type": "markdown",
   "id": "7da00caa",
   "metadata": {
    "papermill": {
     "duration": 0.016136,
     "end_time": "2024-04-30T19:03:47.479888",
     "exception": false,
     "start_time": "2024-04-30T19:03:47.463752",
     "status": "completed"
    },
    "tags": []
   },
   "source": [
    "<div style=\"border:1px solid black; padding:10px;\">\n",
    "\n",
    "<span style=\"color:blue\"> [L6] </span> The classifier is then updated with this enhanced dataset to improve its performance. \n",
    "    \n",
    "</div>"
   ]
  },
  {
   "cell_type": "code",
   "execution_count": 2,
   "id": "6f58c35e",
   "metadata": {
    "_kg_hide-input": true,
    "_kg_hide-output": false,
    "execution": {
     "iopub.execute_input": "2024-04-30T19:03:47.515734Z",
     "iopub.status.busy": "2024-04-30T19:03:47.514944Z",
     "iopub.status.idle": "2024-04-30T19:03:47.521453Z",
     "shell.execute_reply": "2024-04-30T19:03:47.520259Z"
    },
    "papermill": {
     "duration": 0.027417,
     "end_time": "2024-04-30T19:03:47.523703",
     "exception": false,
     "start_time": "2024-04-30T19:03:47.496286",
     "status": "completed"
    },
    "tags": []
   },
   "outputs": [
    {
     "data": {
      "text/html": [
       "<img src=\"https://raw.githubusercontent.com/deepseek-ai/DeepSeek-Math/main/images/data_pipeline.png\" width=\"1400\"/>"
      ],
      "text/plain": [
       "<IPython.core.display.Image object>"
      ]
     },
     "execution_count": 2,
     "metadata": {},
     "output_type": "execute_result"
    }
   ],
   "source": [
    "from IPython.display import Image\n",
    "Image(url='https://raw.githubusercontent.com/deepseek-ai/DeepSeek-Math/main/images/data_pipeline.png', width=1400)"
   ]
  },
  {
   "cell_type": "markdown",
   "id": "2a4290a7",
   "metadata": {
    "papermill": {
     "duration": 0.016391,
     "end_time": "2024-04-30T19:03:47.557387",
     "exception": false,
     "start_time": "2024-04-30T19:03:47.540996",
     "status": "completed"
    },
    "tags": []
   },
   "source": [
    "<div style=\"border:1px solid black; padding:10px;\">\n",
    "\n",
    "<span style=\"color:blue\"> [L7] </span>  The evaluation results indicate that the large-scale corpus is of high quality, as our base model DeepSeekMath-Base 7B achieves <strong>64.2%</strong> on <strong>GSM8K</strong> (Cobbe et al., 2021) and <strong>36.2%</strong> on the competition-level <strong>MATH dataset</strong> (Hendrycks et al., 2021), outperforming <strong>Minerva 540B</strong> (Lewkowycz et al., 2022a).\n",
    "\n",
    "\n",
    "</div>"
   ]
  },
  {
   "cell_type": "markdown",
   "id": "510935f5",
   "metadata": {
    "papermill": {
     "duration": 0.016145,
     "end_time": "2024-04-30T19:03:47.590090",
     "exception": false,
     "start_time": "2024-04-30T19:03:47.573945",
     "status": "completed"
    },
    "tags": []
   },
   "source": [
    "#### GSM8K\n",
    "\n",
    "From the paper abstract:\n",
    "\n",
    "> To diagnose the failures of current models and support research, we introduce GSM8K, a dataset of 8.5K high quality linguistically diverse grade school math word problems. (abstact from Training Verifiers to Solve Math Word Problems (Cobbe et al., 2021)\n",
    "    "
   ]
  },
  {
   "cell_type": "markdown",
   "id": "7e70a70e",
   "metadata": {
    "papermill": {
     "duration": 0.016316,
     "end_time": "2024-04-30T19:03:47.623487",
     "exception": false,
     "start_time": "2024-04-30T19:03:47.607171",
     "status": "completed"
    },
    "tags": []
   },
   "source": [
    "#### Minerva\n",
    "\n",
    "From the paper introduction:\n",
    "\n",
    "> Minerva is based on the PaLM general language models Chowdhery et al. (2022) that are further trained on\n",
    "> a high-quality dataset containing scientific and mathematical data. In particular, we start with 8B, 62B,\n",
    "> and 540B parameter pretrained models, and continue training them on our technical content dataset\n"
   ]
  },
  {
   "cell_type": "markdown",
   "id": "a2b6539c",
   "metadata": {
    "papermill": {
     "duration": 0.016828,
     "end_time": "2024-04-30T19:03:47.656988",
     "exception": false,
     "start_time": "2024-04-30T19:03:47.640160",
     "status": "completed"
    },
    "tags": []
   },
   "source": [
    "\n",
    "\n",
    "<div style=\"border:1px solid black; padding:10px;\">\n",
    "\n",
    "<span style=\"color:blue\"> [L8] </span> In addition, the DeepSeekMath Corpus is <strong>multilingual</strong>, so we notice an improvement in <strong>Chinese mathematical benchmarks</strong> (Wei et al., 2023; Zhong et al., 2023)."
   ]
  },
  {
   "cell_type": "markdown",
   "id": "c3d8a0e0",
   "metadata": {
    "papermill": {
     "duration": 0.016161,
     "end_time": "2024-04-30T19:03:47.690305",
     "exception": false,
     "start_time": "2024-04-30T19:03:47.674144",
     "status": "completed"
    },
    "tags": []
   },
   "source": [
    "<div style=\"border:1px solid black; padding:10px;\">\n",
    "\n",
    "<span style=\"color:blue\"> [L9] </span> We believe that our <strong>experience in mathematical data processing</strong> is a starting point for the research community, and there is\n",
    "significant room for <strong>improvement in the future</strong>.\n",
    "</div>"
   ]
  },
  {
   "cell_type": "markdown",
   "id": "5cbe879c",
   "metadata": {
    "papermill": {
     "duration": 0.016436,
     "end_time": "2024-04-30T19:03:47.723598",
     "exception": false,
     "start_time": "2024-04-30T19:03:47.707162",
     "status": "completed"
    },
    "tags": []
   },
   "source": [
    "# Paragraph 3\n",
    "\n"
   ]
  },
  {
   "cell_type": "markdown",
   "id": "012e5b7a",
   "metadata": {
    "papermill": {
     "duration": 0.016266,
     "end_time": "2024-04-30T19:03:47.757021",
     "exception": false,
     "start_time": "2024-04-30T19:03:47.740755",
     "status": "completed"
    },
    "tags": []
   },
   "source": [
    "<div style=\"border:1px solid black; padding:10px;\">\n",
    "\n",
    "<span style=\"color:blue\"> [L1] </span>DeepSeekMath-Base is initialized with <strong>DeepSeek-Coder-Base-v1.5 7B</strong> (Guo et al., 2024), as we notice that starting from a **code training model** is a better choice compared to a general LLM.\n",
    "    \n",
    "</div>"
   ]
  },
  {
   "cell_type": "markdown",
   "id": "ab198a86",
   "metadata": {
    "papermill": {
     "duration": 0.016417,
     "end_time": "2024-04-30T19:03:47.790256",
     "exception": false,
     "start_time": "2024-04-30T19:03:47.773839",
     "status": "completed"
    },
    "tags": []
   },
   "source": [
    "You can find DeepSeek-Coder-Base on the huggingface.co platform as `\"deepseek-ai/deepseek-coder-7b-base-v1.5\"`. \n",
    "Here the basic example you can find there"
   ]
  },
  {
   "cell_type": "markdown",
   "id": "31964616",
   "metadata": {
    "papermill": {
     "duration": 0.016807,
     "end_time": "2024-04-30T19:03:47.823758",
     "exception": false,
     "start_time": "2024-04-30T19:03:47.806951",
     "status": "completed"
    },
    "tags": []
   },
   "source": [
    "```python\n",
    "from transformers import AutoTokenizer, AutoModelForCausalLM\n",
    "import torch\n",
    "tokenizer = AutoTokenizer.from_pretrained(\"deepseek-ai/deepseek-coder-7b-base-v1.5\", trust_remote_code=True)\n",
    "model = AutoModelForCausalLM.from_pretrained(\"deepseek-ai/deepseek-coder-7b-base-v1.5\", trust_remote_code=True).cuda()\n",
    "input_text = \"#write a quick sort algorithm\"\n",
    "inputs = tokenizer(input_text, return_tensors=\"pt\").cuda()\n",
    "outputs = model.generate(**inputs, max_length=128)\n",
    "print(tokenizer.decode(outputs[0], skip_special_tokens=True))\n",
    "```"
   ]
  },
  {
   "cell_type": "markdown",
   "id": "4879af5a",
   "metadata": {
    "papermill": {
     "duration": 0.016195,
     "end_time": "2024-04-30T19:03:47.857086",
     "exception": false,
     "start_time": "2024-04-30T19:03:47.840891",
     "status": "completed"
    },
    "tags": []
   },
   "source": [
    "The trained model that follow is what in huggingface I think is called `deepseek-ai/deepseek-math-7b-base\"`\n",
    "\n",
    "```python\n",
    "import torch\n",
    "from transformers import AutoTokenizer, AutoModelForCausalLM, GenerationConfig\n",
    "\n",
    "model_name = \"deepseek-ai/deepseek-math-7b-base\"\n",
    "tokenizer = AutoTokenizer.from_pretrained(model_name)\n",
    "model = AutoModelForCausalLM.from_pretrained(model_name, torch_dtype=torch.bfloat16, device_map=\"auto\")\n",
    "model.generation_config = GenerationConfig.from_pretrained(model_name)\n",
    "model.generation_config.pad_token_id = model.generation_config.eos_token_id\n",
    "\n",
    "text = \"The integral of x^2 from 0 to 2 is\"\n",
    "inputs = tokenizer(text, return_tensors=\"pt\")\n",
    "outputs = model.generate(**inputs.to(model.device), max_new_tokens=100)\n",
    "\n",
    "result = tokenizer.decode(outputs[0], skip_special_tokens=True)\n",
    "print(result)\n",
    "```"
   ]
  },
  {
   "cell_type": "markdown",
   "id": "2845f83f",
   "metadata": {
    "execution": {
     "iopub.execute_input": "2024-04-22T19:19:23.815548Z",
     "iopub.status.busy": "2024-04-22T19:19:23.814987Z",
     "iopub.status.idle": "2024-04-22T19:19:23.821774Z",
     "shell.execute_reply": "2024-04-22T19:19:23.820315Z",
     "shell.execute_reply.started": "2024-04-22T19:19:23.815515Z"
    },
    "papermill": {
     "duration": 0.016199,
     "end_time": "2024-04-30T19:03:47.889860",
     "exception": false,
     "start_time": "2024-04-30T19:03:47.873661",
     "status": "completed"
    },
    "tags": []
   },
   "source": [
    "<div style=\"border:1px solid black; padding:10px;\">\n",
    "\n",
    "<span style=\"color:blue\"> [L2] </span>\n",
    "Furthermore, we observe the math training also improves model capability on <strong>MMLU</strong>\n",
    "(Hendrycks et al., 2020) and <strong>BBH</strong> benchmarks (Suzgun et al., 2022), indicating it does not only\n",
    "enhance the model’s mathematical abilities but also amplifies general reasoning capabilities.\n",
    "    \n",
    "</div>"
   ]
  },
  {
   "cell_type": "markdown",
   "id": "e8635321",
   "metadata": {
    "papermill": {
     "duration": 0.016314,
     "end_time": "2024-04-30T19:03:47.922791",
     "exception": false,
     "start_time": "2024-04-30T19:03:47.906477",
     "status": "completed"
    },
    "tags": []
   },
   "source": [
    "#### MMLU - Measuring Massive Multitask Language Understanding\n",
    "\n",
    "From paper abstract:\n",
    "\n",
    "> We propose a new test to measure a text model's multitask accuracy. The test covers 57 tasks including elementary mathematics, US history, computer science, law, and more\n",
    "\n",
    "#### BBH - Challenging BIG-Bench Tasks and Whether Chain-of-Thought Can Solve Them\n",
    "\n",
    "From paper abstract:\n",
    "\n",
    "> In this work, we focus on a suite of 23 challenging BIG-Bench tasks which we call BIG-Bench Hard (BBH). These are the task for which prior language model evaluations did not outperform the average human-rater. \n",
    "\n",
    "Note that the refernce seam to talk about BIG-Bench orginal article: \"Beyond the Imitation Game: Quantifying and extrapolating the capabilities of language models\" while BBH is seam to be a subset as the quote above indicate."
   ]
  },
  {
   "cell_type": "markdown",
   "id": "e1363df4",
   "metadata": {
    "papermill": {
     "duration": 0.016504,
     "end_time": "2024-04-30T19:03:47.955959",
     "exception": false,
     "start_time": "2024-04-30T19:03:47.939455",
     "status": "completed"
    },
    "tags": []
   },
   "source": [
    "# Paragraph 4"
   ]
  },
  {
   "cell_type": "markdown",
   "id": "aa779122",
   "metadata": {
    "papermill": {
     "duration": 0.016357,
     "end_time": "2024-04-30T19:03:47.988915",
     "exception": false,
     "start_time": "2024-04-30T19:03:47.972558",
     "status": "completed"
    },
    "tags": []
   },
   "source": [
    "<div style=\"border:1px solid black; padding:10px;\">\n",
    "<span style=\"color:blue\"> [L1] </span> \n",
    "<strong>After pre-training</strong>, we apply mathematical instruction tuning to DeepSeekMath-Base with <strong>chain-of-thought</strong> (Wei et al., 2022), <strong>program-of-thought</strong> (Chen et al., 2022; Gao et al., 2023), and <strong>tool-integrated reasoning</strong> (Gou et al., 2023) data.\n",
    " </div>"
   ]
  },
  {
   "cell_type": "markdown",
   "id": "18d0c038",
   "metadata": {
    "papermill": {
     "duration": 0.016763,
     "end_time": "2024-04-30T19:03:48.022376",
     "exception": false,
     "start_time": "2024-04-30T19:03:48.005613",
     "status": "completed"
    },
    "tags": []
   },
   "source": [
    "#### chain-of-thought\n",
    "\n",
    "Often mention as CoT\n",
    "You can find a divulgative article here\n",
    "https://www.quantamagazine.org/how-chain-of-thought-reasoning-helps-neural-networks-compute-20240321/\n",
    "\n",
    "Here an example that should have be taken from the paper\n",
    "\n",
    "<div align=\"center\">\n",
    "    <img src=\"https://blogger.googleusercontent.com/img/b/R29vZ2xl/AVvXsEgVgTjwA0IzKekrQoMziCmDXjO10QKjdDdzK1Oj8bZToPOI6VjVzTKXZ6vnWvAGOdVnWznJK2ZZjfBuTLojobayI_yrvlFzE3dCErF2j5wKLGFWAkuGP9-r-hMrqFivnjYhbCIu7HFINSmHu4wUjlKHfJxWHZ8Y7CYUowWvxTeRJhQEAUswGh2fUd3VHA/s2500/chainofthought.png\">\n",
    "</div>\n",
    "\n",
    "#### program-of-thought\n",
    "\n",
    "\n",
    "https://arxiv.org/abs/2211.12588\n",
    "\n",
    "Program of Thoughts Prompting: Disentangling Computation from Reasoning for Numerical Reasoning Tasks\n",
    "\n",
    "Here an image from the paper whre they compare with CoT\n",
    "\n",
    "<div align=\"center\">\n",
    "    <img src=\"https://github.com/wenhuchen/Program-of-Thoughts/blob/main/assets/intro.001.jpeg?raw=true\">\n",
    "</div>\n",
    "\n",
    "#### tool-integrated reasoning\n",
    "\n",
    "As been introduced in the paper\n",
    "https://arxiv.org/abs/2309.17452\n",
    "ToRA: A Tool-Integrated Reasoning Agent for Mathematical Problem Solving\n",
    "\n",
    "Here an image image from the paper where the three method seam compared\n",
    "\n",
    "<div align=\"center\">\n",
    "    <img src=\"https://github.com/microsoft/ToRA/blob/main/docs/static/images/example.png?raw=true\">\n",
    "</div>\n",
    "\n"
   ]
  },
  {
   "cell_type": "markdown",
   "id": "22825e8f",
   "metadata": {
    "papermill": {
     "duration": 0.017241,
     "end_time": "2024-04-30T19:03:48.056972",
     "exception": false,
     "start_time": "2024-04-30T19:03:48.039731",
     "status": "completed"
    },
    "tags": []
   },
   "source": [
    "<div style=\"border:1px solid black; padding:10px;\">\n",
    "\n",
    "<span style=\"color:blue\"> [L2] </span>\n",
    "The resulting model <strong>DeepSeekMath-Instruct</strong> 7B <strong>beats all 7B</strong> counterparts and is <strong>comparable with 70B</strong> open-source instruction-tuned models.\n",
    "</div>"
   ]
  },
  {
   "cell_type": "markdown",
   "id": "ddb6a856",
   "metadata": {
    "papermill": {
     "duration": 0.01649,
     "end_time": "2024-04-30T19:03:48.090240",
     "exception": false,
     "start_time": "2024-04-30T19:03:48.073750",
     "status": "completed"
    },
    "tags": []
   },
   "source": [
    "You can find the 7B version of  DeepSeekMath-Instruct on huggingface\n",
    "here the code (from hf) you need to run tu test it.\n",
    "\n",
    "```python\n",
    "import torch\n",
    "from transformers import AutoTokenizer, AutoModelForCausalLM, GenerationConfig\n",
    "\n",
    "model_name = \"deepseek-ai/deepseek-math-7b-instruct\"\n",
    "tokenizer = AutoTokenizer.from_pretrained(model_name)\n",
    "model = AutoModelForCausalLM.from_pretrained(model_name, torch_dtype=torch.bfloat16, device_map=\"auto\")\n",
    "model.generation_config = GenerationConfig.from_pretrained(model_name)\n",
    "model.generation_config.pad_token_id = model.generation_config.eos_token_id\n",
    "\n",
    "messages = [\n",
    "    {\"role\": \"user\", \"content\": \"what is the integral of x^2 from 0 to 2?\\nPlease reason step by step, and put your final answer within \\\\boxed{}.\"}\n",
    "]\n",
    "input_tensor = tokenizer.apply_chat_template(messages, add_generation_prompt=True, return_tensors=\"pt\")\n",
    "outputs = model.generate(input_tensor.to(model.device), max_new_tokens=100)\n",
    "\n",
    "result = tokenizer.decode(outputs[0][input_tensor.shape[1]:], skip_special_tokens=True)\n",
    "```\n",
    "\n",
    "#### beats all 7B and comparable with 70B\n",
    "\n",
    "Here rest vague and not clear on which models and evaluations this claims are based, may be it will clarify this later in the evaluation section."
   ]
  },
  {
   "cell_type": "markdown",
   "id": "69847822",
   "metadata": {
    "papermill": {
     "duration": 0.01656,
     "end_time": "2024-04-30T19:03:48.124290",
     "exception": false,
     "start_time": "2024-04-30T19:03:48.107730",
     "status": "completed"
    },
    "tags": []
   },
   "source": [
    "# Paragraph 5"
   ]
  },
  {
   "cell_type": "markdown",
   "id": "73c34c0e",
   "metadata": {
    "papermill": {
     "duration": 0.016586,
     "end_time": "2024-04-30T19:03:48.159119",
     "exception": false,
     "start_time": "2024-04-30T19:03:48.142533",
     "status": "completed"
    },
    "tags": []
   },
   "source": [
    "<div style=\"border:1px solid black; padding:10px;\">\n",
    "\n",
    "<span style=\"color:blue\"> [L1] </span>\n",
    "  Furthermore, we introduce the <strong>Group Relative Policy Optimization (GRPO)</strong>, a variant reinforcement learning (RL) algorithm of Proximal Policy Optimization (PPO) (Schulman et al., 2017)\n",
    "</div>\n"
   ]
  },
  {
   "cell_type": "markdown",
   "id": "3a254724",
   "metadata": {
    "papermill": {
     "duration": 0.016913,
     "end_time": "2024-04-30T19:03:48.192804",
     "exception": false,
     "start_time": "2024-04-30T19:03:48.175891",
     "status": "completed"
    },
    "tags": []
   },
   "source": [
    "#### Proximal Policy Optimization\n",
    "\n",
    "This is a very popular RL algorithm\n",
    "\n",
    "> PPO is classified as a policy gradient method for training an agent’s policy network. The policy network is the function that the agent uses to make decisions. (wikipedia)\n",
    "\n",
    "In RL you often want define a function that map state to action, so that your agent can know what to do. This function is called policy and can be either learn directliy as in the case of PPO or indirectly."
   ]
  },
  {
   "cell_type": "markdown",
   "id": "7db1d92a",
   "metadata": {
    "papermill": {
     "duration": 0.016368,
     "end_time": "2024-04-30T19:03:48.226074",
     "exception": false,
     "start_time": "2024-04-30T19:03:48.209706",
     "status": "completed"
    },
    "tags": []
   },
   "source": [
    "<div style=\"border:1px solid black; padding:10px;\">\n",
    "\n",
    "<span style=\"color:blue\"> [L2] </span> GRPO <strong>foregoes the critic model</strong>, instead estimating the baseline from <strong>group scores</strong>, significantly reducing training resources.\n",
    "  \n",
    "</div>\n"
   ]
  },
  {
   "cell_type": "markdown",
   "id": "cab27e18",
   "metadata": {
    "papermill": {
     "duration": 0.016285,
     "end_time": "2024-04-30T19:03:48.258907",
     "exception": false,
     "start_time": "2024-04-30T19:03:48.242622",
     "status": "completed"
    },
    "tags": []
   },
   "source": [
    "<div style=\"border:1px solid black; padding:10px;\">\n",
    "\n",
    "<span style=\"color:blue\"> [L3] </span>\n",
    "  By solely using a <strong>subset of English instruction tuning data</strong>, GRPO\n",
    "obtains a <strong>substantial improvement</strong> over the strong DeepSeekMath-Instruct, including both\n",
    "<strong>in-domain</strong> (GSM8K: 82.9% → 88.2%, MATH: 46.8% → 51.7%) and <strong>out-of-domain</strong> mathematical\n",
    "tasks (e.g., CMATH: 84.6% → 88.8%) during the reinforcement learning phase.\n",
    "</div>\n"
   ]
  },
  {
   "cell_type": "markdown",
   "id": "99eb647d",
   "metadata": {
    "papermill": {
     "duration": 0.01645,
     "end_time": "2024-04-30T19:03:48.292191",
     "exception": false,
     "start_time": "2024-04-30T19:03:48.275741",
     "status": "completed"
    },
    "tags": []
   },
   "source": [
    "I think in huggingface they refer to this model as `deepseek-math-7b-rl`\n",
    "In the huggingface snippets at https://huggingface.co/deepseek-ai/deepseek-math-7b-rl they refer to it as \"deepseek-ai/deepseek-math-7b-instruct\" but it should be an error"
   ]
  },
  {
   "cell_type": "markdown",
   "id": "a25fcd96",
   "metadata": {
    "papermill": {
     "duration": 0.016534,
     "end_time": "2024-04-30T19:03:48.325375",
     "exception": false,
     "start_time": "2024-04-30T19:03:48.308841",
     "status": "completed"
    },
    "tags": []
   },
   "source": [
    "<div style=\"border:1px solid black; padding:10px;\">\n",
    "\n",
    "<span style=\"color:blue\"> [L4] </span>\n",
    "We also provide\n",
    "a <strong>unified paradigm</strong> to understand different methods, such as Rejection Sampling Fine-Tuning\n",
    "(<strong>RFT</strong>) (Yuan et al., 2023a), Direct Preference Optimization (<strong>DPO</strong>) (Rafailov et al., 2023), <strong>PPO</strong> and <strong>RPO</strong>. \n",
    "  \n",
    "</div>\n"
   ]
  },
  {
   "cell_type": "markdown",
   "id": "f7a9e657",
   "metadata": {
    "papermill": {
     "duration": 0.016377,
     "end_time": "2024-04-30T19:03:48.358625",
     "exception": false,
     "start_time": "2024-04-30T19:03:48.342248",
     "status": "completed"
    },
    "tags": []
   },
   "source": [
    "#### unified paradigm\n",
    "\n",
    "It adress the unified paradigm on the section \n",
    "\n",
    "5.2.1. Towards to a Unified Paradigm\n",
    "\n",
    "\n",
    "Here it list three key component to look at the unified \n",
    "\n",
    "1. Data Source\n",
    "2. Reward Function\n",
    "3. The Algorithm\n",
    "\n",
    "\n",
    "Then in Table 10 it review the algorhtms from this prospecive. Not that in the analysis will add SFT (Supervised Fine Tuning) which should be the base not RL supervised model. \n",
    "It will also make a distinction between RFT and Oneline RFT. \n"
   ]
  },
  {
   "cell_type": "code",
   "execution_count": 3,
   "id": "8fa87ee1",
   "metadata": {
    "_kg_hide-input": true,
    "execution": {
     "iopub.execute_input": "2024-04-30T19:03:48.396439Z",
     "iopub.status.busy": "2024-04-30T19:03:48.395603Z",
     "iopub.status.idle": "2024-04-30T19:03:49.422699Z",
     "shell.execute_reply": "2024-04-30T19:03:49.421470Z"
    },
    "papermill": {
     "duration": 1.048858,
     "end_time": "2024-04-30T19:03:49.425203",
     "exception": false,
     "start_time": "2024-04-30T19:03:48.376345",
     "status": "completed"
    },
    "tags": []
   },
   "outputs": [
    {
     "data": {
      "text/html": [
       "<div>\n",
       "<style scoped>\n",
       "    .dataframe tbody tr th:only-of-type {\n",
       "        vertical-align: middle;\n",
       "    }\n",
       "\n",
       "    .dataframe tbody tr th {\n",
       "        vertical-align: top;\n",
       "    }\n",
       "\n",
       "    .dataframe thead th {\n",
       "        text-align: right;\n",
       "    }\n",
       "</style>\n",
       "<table border=\"1\" class=\"dataframe\">\n",
       "  <thead>\n",
       "    <tr style=\"text-align: right;\">\n",
       "      <th></th>\n",
       "      <th>Methods</th>\n",
       "      <th>Data Source</th>\n",
       "      <th>Reward Function</th>\n",
       "      <th>Gradient Coefficient</th>\n",
       "    </tr>\n",
       "  </thead>\n",
       "  <tbody>\n",
       "    <tr>\n",
       "      <th>0</th>\n",
       "      <td>SFT</td>\n",
       "      <td>$q, o \\sim P_{sft}(Q, O)$</td>\n",
       "      <td>-</td>\n",
       "      <td>1</td>\n",
       "    </tr>\n",
       "    <tr>\n",
       "      <th>1</th>\n",
       "      <td>RFT</td>\n",
       "      <td>$q \\sim P_{sft}(Q), o \\sim \\pi_{sft}(O|q)$</td>\n",
       "      <td>Rule</td>\n",
       "      <td>Equation 10</td>\n",
       "    </tr>\n",
       "    <tr>\n",
       "      <th>2</th>\n",
       "      <td>DPO</td>\n",
       "      <td>$q \\sim P_{sft}(Q), o^+, o^- \\sim \\pi_{sft}(O|q)$</td>\n",
       "      <td>Rule</td>\n",
       "      <td>Equation 14</td>\n",
       "    </tr>\n",
       "    <tr>\n",
       "      <th>3</th>\n",
       "      <td>Online RFT</td>\n",
       "      <td>$q \\sim P_{sft}(Q), o \\sim \\pi_{\\theta}(O|q)$</td>\n",
       "      <td>Rule</td>\n",
       "      <td>Equation 10</td>\n",
       "    </tr>\n",
       "    <tr>\n",
       "      <th>4</th>\n",
       "      <td>PPO</td>\n",
       "      <td>$q \\sim P_{sft}(Q), o \\sim \\pi_{\\theta}(O|q)$</td>\n",
       "      <td>Model</td>\n",
       "      <td>Equation 18</td>\n",
       "    </tr>\n",
       "    <tr>\n",
       "      <th>5</th>\n",
       "      <td>GRPO</td>\n",
       "      <td>$q \\sim P_{sft}(Q), \\{o_i\\}_{i=1}^{G}\\sim \\pi_...</td>\n",
       "      <td>Model</td>\n",
       "      <td>Equation 21</td>\n",
       "    </tr>\n",
       "  </tbody>\n",
       "</table>\n",
       "</div>"
      ],
      "text/plain": [
       "      Methods                                        Data Source  \\\n",
       "0         SFT                          $q, o \\sim P_{sft}(Q, O)$   \n",
       "1         RFT         $q \\sim P_{sft}(Q), o \\sim \\pi_{sft}(O|q)$   \n",
       "2         DPO  $q \\sim P_{sft}(Q), o^+, o^- \\sim \\pi_{sft}(O|q)$   \n",
       "3  Online RFT      $q \\sim P_{sft}(Q), o \\sim \\pi_{\\theta}(O|q)$   \n",
       "4         PPO      $q \\sim P_{sft}(Q), o \\sim \\pi_{\\theta}(O|q)$   \n",
       "5        GRPO  $q \\sim P_{sft}(Q), \\{o_i\\}_{i=1}^{G}\\sim \\pi_...   \n",
       "\n",
       "  Reward Function Gradient Coefficient  \n",
       "0               -                    1  \n",
       "1            Rule          Equation 10  \n",
       "2            Rule          Equation 14  \n",
       "3            Rule          Equation 10  \n",
       "4           Model          Equation 18  \n",
       "5           Model          Equation 21  "
      ]
     },
     "execution_count": 3,
     "metadata": {},
     "output_type": "execute_result"
    }
   ],
   "source": [
    "import pandas as pd\n",
    "\n",
    "# Define the data for the table\n",
    "data = {\n",
    "    'Methods': ['SFT', 'RFT', 'DPO', 'Online RFT', 'PPO', 'GRPO'],\n",
    "    'Data Source': [\n",
    "        r'$q, o \\sim P_{sft}(Q, O)$',\n",
    "        r'$q \\sim P_{sft}(Q), o \\sim \\pi_{sft}(O|q)$',\n",
    "        r'$q \\sim P_{sft}(Q), o^+, o^- \\sim \\pi_{sft}(O|q)$',\n",
    "        r'$q \\sim P_{sft}(Q), o \\sim \\pi_{\\theta}(O|q)$',\n",
    "        r'$q \\sim P_{sft}(Q), o \\sim \\pi_{\\theta}(O|q)$',\n",
    "        r'$q \\sim P_{sft}(Q), \\{o_i\\}_{i=1}^{G}\\sim \\pi_{\\theta}(O|q)$'\n",
    "    ],\n",
    "    'Reward Function': ['-', 'Rule', 'Rule', 'Rule', 'Model', 'Model'],\n",
    "    'Gradient Coefficient': ['1', 'Equation 10', 'Equation 14', 'Equation 10', 'Equation 18', 'Equation 21']\n",
    "}\n",
    "\n",
    "# Create a DataFrame\n",
    "df = pd.DataFrame(data)\n",
    "\n",
    "# Display the DataFrame as an HTML table in the Jupyter notebook\n",
    "df\n"
   ]
  },
  {
   "cell_type": "markdown",
   "id": "42e74741",
   "metadata": {
    "papermill": {
     "duration": 0.016967,
     "end_time": "2024-04-30T19:03:49.459229",
     "exception": false,
     "start_time": "2024-04-30T19:03:49.442262",
     "status": "completed"
    },
    "tags": []
   },
   "source": [
    "Where \n",
    "- $P_{sft}$ => data distriubution of superived fine tuning\n",
    "- $\\pi_{sft}$ => supervised fine-tuning model\n",
    "- $\\pi_{\\theta}$ => real time policy"
   ]
  },
  {
   "cell_type": "markdown",
   "id": "eaea78ec",
   "metadata": {
    "papermill": {
     "duration": 0.016869,
     "end_time": "2024-04-30T19:03:49.493131",
     "exception": false,
     "start_time": "2024-04-30T19:03:49.476262",
     "status": "completed"
    },
    "tags": []
   },
   "source": [
    "#### **RFT - Rejection Sampling Fine-Tuning**\n",
    "\n",
    "Scaling Relationship on Learning Mathematical Reasoning with Large Language Models\n",
    "\n",
    "https://arxiv.org/abs/2308.01825\n",
    "\n",
    "From the abstact:\n",
    "\n",
    "> RFT uses supervised models to generate and collect correct reasoning paths as augmented fine-tuning datasets. \n",
    "\n",
    "\n",
    "#### **DPO - Direct Preference Optimization**\n",
    "\n",
    "Direct Preference Optimization: Your Language Model is Secretly a Reward Model\n",
    "\n",
    "https://arxiv.org/abs/2305.18290\n",
    "\n",
    "Form the abstact of the article:\n",
    "\n",
    "> In this paper we introduce a new parameterization of the reward model in RLHF that enables extraction of the corresponding optimal policy in closed form, allowing us to solve the standard RLHF problem with only a simple classification loss. \n",
    "\n",
    "#### **PPO - Proximal Policy Optimization**\n",
    "\n",
    "The popular RL algorithm  I talked above.\n",
    "\n",
    "#### **RPO - Relative Policy Optimization**\n",
    "\n",
    "There are an aritcle that introduce an algorithm call RPO but \n",
    "\n",
    "Relative Policy-Transition Optimization for Fast Policy Transfer\n",
    "\n",
    "https://arxiv.org/abs/2206.06009\n",
    "\n",
    "From the abstract:\n",
    "\n",
    "> RPO transfers the policy evaluated in one environment to maximize the return in another,\n",
    "\n",
    "But the author do not seam to cite the article so I guess [need further investigation] the use of the name is \n",
    "not refering to this. \n",
    "\n",
    "Here with RPO can denete their own introduced GPRO which they say in the abstract\n",
    "\n",
    " > We introduce Group Relative Policy Optimization (GRPO), a variant of Proximal Policy Optimization (PPO), "
   ]
  },
  {
   "cell_type": "markdown",
   "id": "431036c9",
   "metadata": {
    "papermill": {
     "duration": 0.016663,
     "end_time": "2024-04-30T19:03:49.526850",
     "exception": false,
     "start_time": "2024-04-30T19:03:49.510187",
     "status": "completed"
    },
    "tags": []
   },
   "source": [
    "<div style=\"border:1px solid black; padding:10px;\">\n",
    "\n",
    "<span style=\"color:blue\"> [L5] </span>\n",
    "  Based on such a unified paradigm, we <strong>find</strong> that all these methods are conceptualized as\n",
    "either direct or <strong>simplified RL techniques</strong>. \n",
    "</div>\n"
   ]
  },
  {
   "cell_type": "markdown",
   "id": "7ae0a2a0",
   "metadata": {
    "papermill": {
     "duration": 0.016716,
     "end_time": "2024-04-30T19:03:49.560499",
     "exception": false,
     "start_time": "2024-04-30T19:03:49.543783",
     "status": "completed"
    },
    "tags": []
   },
   "source": [
    "<div style=\"border:1px solid black; padding:10px;\">\n",
    "\n",
    "<span style=\"color:blue\"> [L6] </span>\n",
    "  We also conduct extensive <strong>experiments</strong>, e.g., online\n",
    "<strong>v.s.</strong> offline training, outcome <strong>v.s.</strong> process supervision, single-turn <strong>v.s</strong> iterative RL and so on,\n",
    "    to deeply investigate the essential elements of this paradigm\n",
    "</div>\n"
   ]
  },
  {
   "cell_type": "markdown",
   "id": "d75eabb8",
   "metadata": {
    "papermill": {
     "duration": 0.017796,
     "end_time": "2024-04-30T19:03:49.595773",
     "exception": false,
     "start_time": "2024-04-30T19:03:49.577977",
     "status": "completed"
    },
    "tags": []
   },
   "source": [
    "####  online v.s. offline training\n",
    "\n",
    "From the same article:\n",
    "\n",
    "> Online sampling denotes that the training data is from the exploration results of the real-time training policy model, \n",
    "\n",
    "> Offline sampling denotes that the training data is from the sampling results of the initial SFT model.\n",
    "\n",
    "####  outcome v.s. process supervision\n",
    "\n",
    "From the same article:\n",
    "\n",
    "> Outcome supervision only provides a reward at the end of each output, which may not be\n",
    "sufficient and efficient to supervise the policy in complex mathematical tasks. \n",
    "\n",
    ">Following Wang et al. (2023b), we also explore process supervision, which provides a reward at the end of\n",
    "each reasoning step\n",
    "\n",
    "#### single-turn v.s. iterative RL\n",
    "\n",
    "From the same article:\n",
    "\n",
    "> As the reinforcement learning training process progresses, the old reward model may not be\n",
    "sufficient to supervise the current policy model. Therefore, we also explore the iterative RL\n",
    "with GRPO. "
   ]
  },
  {
   "cell_type": "markdown",
   "id": "334e01e3",
   "metadata": {
    "papermill": {
     "duration": 0.017343,
     "end_time": "2024-04-30T19:03:49.630198",
     "exception": false,
     "start_time": "2024-04-30T19:03:49.612855",
     "status": "completed"
    },
    "tags": []
   },
   "source": [
    "<div style=\"border:1px solid black; padding:10px;\">\n",
    "\n",
    "<span style=\"color:blue\"> [L7] </span>\n",
    "   At last, we explain <strong>why our RL\n",
    "boosts</strong> the performance of instruction-tuned models, and further summarize <strong>potential directions</strong>\n",
    "to achieve <strong>more effective</strong> RL based on this unified paradigm\n",
    "</div>\n"
   ]
  },
  {
   "cell_type": "markdown",
   "id": "45af4b48",
   "metadata": {
    "papermill": {
     "duration": 0.016673,
     "end_time": "2024-04-30T19:03:49.663921",
     "exception": false,
     "start_time": "2024-04-30T19:03:49.647248",
     "status": "completed"
    },
    "tags": []
   },
   "source": [
    "#### why our RL boosts\n",
    "\n",
    "They explain this on the section:\n",
    "\n",
    "5.2.2. Why RL Works?\n",
    "\n",
    "There they say:\n",
    "\n",
    "> It seems that the improvement is attributed to boosting the correct response from TopK rather than\n",
    "the enhancement of fundamental capabilities."
   ]
  },
  {
   "cell_type": "markdown",
   "id": "9e782a05",
   "metadata": {
    "papermill": {
     "duration": 0.016542,
     "end_time": "2024-04-30T19:03:49.697354",
     "exception": false,
     "start_time": "2024-04-30T19:03:49.680812",
     "status": "completed"
    },
    "tags": []
   },
   "source": [
    "#### Potentials directions\n",
    "\n",
    "In the section:\n",
    "\n",
    "5.2.3. How to Achieve More Effective RL?\n",
    "\n",
    "They explain it the direction will go on the 3 key compoents Data Source, Algorithm, Reward Function."
   ]
  },
  {
   "cell_type": "markdown",
   "id": "e0eb0148",
   "metadata": {
    "papermill": {
     "duration": 0.016623,
     "end_time": "2024-04-30T19:03:49.731420",
     "exception": false,
     "start_time": "2024-04-30T19:03:49.714797",
     "status": "completed"
    },
    "tags": []
   },
   "source": [
    "<div style=\"border:1px solid black; padding:10px;\">\n",
    "\n",
    "<span style=\"color:blue\"> [L7] </span>\n",
    "   At last, we explain <strong>why our RL\n",
    "boosts</strong> the performance of instruction-tuned models, and further summarize <strong>potential directions</strong>\n",
    "to achieve <strong>more effective</strong> RL based on this unified paradigm\n",
    "</div>\n"
   ]
  },
  {
   "cell_type": "markdown",
   "id": "95390c1f",
   "metadata": {
    "papermill": {
     "duration": 0.016672,
     "end_time": "2024-04-30T19:03:49.765030",
     "exception": false,
     "start_time": "2024-04-30T19:03:49.748358",
     "status": "completed"
    },
    "tags": []
   },
   "source": [
    "# 1.1. Contributions"
   ]
  },
  {
   "cell_type": "markdown",
   "id": "ac8ca978",
   "metadata": {
    "papermill": {
     "duration": 0.016539,
     "end_time": "2024-04-30T19:03:49.798497",
     "exception": false,
     "start_time": "2024-04-30T19:03:49.781958",
     "status": "completed"
    },
    "tags": []
   },
   "source": [
    "# Paragraph 6"
   ]
  },
  {
   "cell_type": "markdown",
   "id": "cae8f456",
   "metadata": {
    "papermill": {
     "duration": 0.016617,
     "end_time": "2024-04-30T19:03:49.831926",
     "exception": false,
     "start_time": "2024-04-30T19:03:49.815309",
     "status": "completed"
    },
    "tags": []
   },
   "source": [
    "<div style=\"border:1px solid black; padding:10px;\">\n",
    "\n",
    "<span style=\"color:blue\"> [L1] </span>\n",
    "Our contribution includes <strong>scalable math pre-training</strong>, along with the <strong>exploration and analysis of reinforcement learning</strong>\n",
    "</div>\n"
   ]
  },
  {
   "cell_type": "markdown",
   "id": "0f3bcc69",
   "metadata": {
    "papermill": {
     "duration": 0.017031,
     "end_time": "2024-04-30T19:03:49.867489",
     "exception": false,
     "start_time": "2024-04-30T19:03:49.850458",
     "status": "completed"
    },
    "tags": []
   },
   "source": [
    "# Math Pre-Training at Scale"
   ]
  },
  {
   "cell_type": "markdown",
   "id": "e862ecee",
   "metadata": {
    "papermill": {
     "duration": 0.016465,
     "end_time": "2024-04-30T19:03:49.900771",
     "exception": false,
     "start_time": "2024-04-30T19:03:49.884306",
     "status": "completed"
    },
    "tags": []
   },
   "source": [
    "# Paragraph 7"
   ]
  },
  {
   "cell_type": "markdown",
   "id": "c26a4987",
   "metadata": {
    "papermill": {
     "duration": 0.016519,
     "end_time": "2024-04-30T19:03:49.933935",
     "exception": false,
     "start_time": "2024-04-30T19:03:49.917416",
     "status": "completed"
    },
    "tags": []
   },
   "source": [
    "<div style=\"border:1px solid black; padding:10px;\">\n",
    "\n",
    "<span style=\"color:blue\"> [L1] </span>\n",
    "Our research provides compelling evidence that the publicly accessible <strong>Common Crawl</strong>\n",
    "data contains <strong>valuable</strong> information <strong>for mathematical</strong> purposes.\n",
    "</div>\n"
   ]
  },
  {
   "cell_type": "markdown",
   "id": "f3243822",
   "metadata": {
    "papermill": {
     "duration": 0.016633,
     "end_time": "2024-04-30T19:03:49.967532",
     "exception": false,
     "start_time": "2024-04-30T19:03:49.950899",
     "status": "completed"
    },
    "tags": []
   },
   "source": [
    "<div style=\"border:1px solid black; padding:10px;\">\n",
    "\n",
    "<span style=\"color:blue\"> [L2] </span>\n",
    "By implementing a meticulously designed <strong>data selection pipeline</strong>, we successfully construct the <strong>DeepSeekMath Corpus</strong>, a high-quality dataset of 120B tokens from web pages filtered for mathematical content, which is almost <strong>7 times the size</strong> of the math web pages used by <strong>Minerva</strong> (Lewkowycz et al., 2022a) and <strong>9 times</strong> the size of the recently released <strong>OpenWebMath</strong> (Paster et al., 2023).\n",
    "</div>\n"
   ]
  },
  {
   "cell_type": "markdown",
   "id": "0b5887f4",
   "metadata": {
    "papermill": {
     "duration": 0.016535,
     "end_time": "2024-04-30T19:03:50.001222",
     "exception": false,
     "start_time": "2024-04-30T19:03:49.984687",
     "status": "completed"
    },
    "tags": []
   },
   "source": [
    "# Paragraph 8"
   ]
  },
  {
   "cell_type": "markdown",
   "id": "5fe09a0a",
   "metadata": {
    "papermill": {
     "duration": 0.016749,
     "end_time": "2024-04-30T19:03:50.034894",
     "exception": false,
     "start_time": "2024-04-30T19:03:50.018145",
     "status": "completed"
    },
    "tags": []
   },
   "source": [
    "<div style=\"border:1px solid black; padding:10px;\">\n",
    "\n",
    "<span style=\"color:blue\"> [L1] </span>\n",
    "Our pre-trained base model DeepSeekMath-Base <strong>7B achieves comparable performance with Minerva 540B</strong> (Lewkowycz et al., 2022a), indicating the <strong>number of parameters is not the only key</strong> factor in mathematical reasoning capability.\n",
    "</div>\n"
   ]
  },
  {
   "cell_type": "markdown",
   "id": "6117a30a",
   "metadata": {
    "papermill": {
     "duration": 0.016993,
     "end_time": "2024-04-30T19:03:50.069936",
     "exception": false,
     "start_time": "2024-04-30T19:03:50.052943",
     "status": "completed"
    },
    "tags": []
   },
   "source": [
    "<div style=\"border:1px solid black; padding:10px;\">\n",
    "\n",
    "<span style=\"color:blue\"> [L2] </span>\n",
    "A smaller model pre-trained on <strong>high-quality</strong> data could achieve <strong>strong performance as well</strong>.\n",
    "</div>\n"
   ]
  },
  {
   "cell_type": "markdown",
   "id": "3d7a5928",
   "metadata": {
    "papermill": {
     "duration": 0.016886,
     "end_time": "2024-04-30T19:03:50.103974",
     "exception": false,
     "start_time": "2024-04-30T19:03:50.087088",
     "status": "completed"
    },
    "tags": []
   },
   "source": [
    "# Paragraph 9"
   ]
  },
  {
   "cell_type": "markdown",
   "id": "0e19b725",
   "metadata": {
    "papermill": {
     "duration": 0.01676,
     "end_time": "2024-04-30T19:03:50.137665",
     "exception": false,
     "start_time": "2024-04-30T19:03:50.120905",
     "status": "completed"
    },
    "tags": []
   },
   "source": [
    "<div style=\"border:1px solid black; padding:10px;\">\n",
    "\n",
    "<span style=\"color:blue\"> [L1] </span>\n",
    "We <strong>share</strong> our findings from math training experiments.\n",
    "</div>\n"
   ]
  },
  {
   "cell_type": "markdown",
   "id": "6442c4ac",
   "metadata": {
    "papermill": {
     "duration": 0.016925,
     "end_time": "2024-04-30T19:03:50.172886",
     "exception": false,
     "start_time": "2024-04-30T19:03:50.155961",
     "status": "completed"
    },
    "tags": []
   },
   "source": [
    "<div style=\"border:1px solid black; padding:10px;\">\n",
    "\n",
    "<span style=\"color:blue\"> [L2] </span>\n",
    "<strong>Code training prior</strong> to math\n",
    "training <strong>improves</strong> models’ability to solve mathematical problems both with and without\n",
    "tool use. \n",
    "</div>\n"
   ]
  },
  {
   "cell_type": "markdown",
   "id": "5bcf3f62",
   "metadata": {
    "papermill": {
     "duration": 0.016725,
     "end_time": "2024-04-30T19:03:50.206599",
     "exception": false,
     "start_time": "2024-04-30T19:03:50.189874",
     "status": "completed"
    },
    "tags": []
   },
   "source": [
    "<div style=\"border:1px solid black; padding:10px;\">\n",
    "\n",
    "<span style=\"color:blue\"> [L3] </span>\n",
    " This offers a <strong>partial answer</strong> to the long-standing question: <strong>does code training\n",
    "improve reasoning abilities?</strong>\n",
    "</div>\n"
   ]
  },
  {
   "cell_type": "markdown",
   "id": "1fbaac11",
   "metadata": {
    "papermill": {
     "duration": 0.016933,
     "end_time": "2024-04-30T19:03:50.240506",
     "exception": false,
     "start_time": "2024-04-30T19:03:50.223573",
     "status": "completed"
    },
    "tags": []
   },
   "source": [
    "<div style=\"border:1px solid black; padding:10px;\">\n",
    "\n",
    "<span style=\"color:blue\"> [L4] </span>\n",
    "We believe it does, <strong>at least for mathematical</strong> reasoning.\n",
    "</div>"
   ]
  },
  {
   "cell_type": "markdown",
   "id": "5b5bc78d",
   "metadata": {
    "papermill": {
     "duration": 0.016527,
     "end_time": "2024-04-30T19:03:50.273867",
     "exception": false,
     "start_time": "2024-04-30T19:03:50.257340",
     "status": "completed"
    },
    "tags": []
   },
   "source": [
    "# Paragraph 10"
   ]
  },
  {
   "cell_type": "markdown",
   "id": "0a3d544a",
   "metadata": {
    "papermill": {
     "duration": 0.016645,
     "end_time": "2024-04-30T19:03:50.307474",
     "exception": false,
     "start_time": "2024-04-30T19:03:50.290829",
     "status": "completed"
    },
    "tags": []
   },
   "source": [
    "<div style=\"border:1px solid black; padding:10px;\">\n",
    "\n",
    "<span style=\"color:blue\"> [L1] </span>\n",
    "    Although <strong>training on arXiv papers</strong> is common, especially in many math-related papers, it\n",
    "brings <strong>no notable improvements</strong> on all mathematical benchmarks adopted in this paper.\n",
    "</div>\n"
   ]
  },
  {
   "cell_type": "markdown",
   "id": "78a3360b",
   "metadata": {
    "papermill": {
     "duration": 0.016888,
     "end_time": "2024-04-30T19:03:50.341215",
     "exception": false,
     "start_time": "2024-04-30T19:03:50.324327",
     "status": "completed"
    },
    "tags": []
   },
   "source": [
    "# Exploration and Analysis of Reinforcement Learning"
   ]
  },
  {
   "cell_type": "markdown",
   "id": "750667b9",
   "metadata": {
    "papermill": {
     "duration": 0.016939,
     "end_time": "2024-04-30T19:03:50.376324",
     "exception": false,
     "start_time": "2024-04-30T19:03:50.359385",
     "status": "completed"
    },
    "tags": []
   },
   "source": [
    "# Paragraph 11"
   ]
  },
  {
   "cell_type": "markdown",
   "id": "1e21fb4a",
   "metadata": {
    "papermill": {
     "duration": 0.016698,
     "end_time": "2024-04-30T19:03:50.410356",
     "exception": false,
     "start_time": "2024-04-30T19:03:50.393658",
     "status": "completed"
    },
    "tags": []
   },
   "source": [
    "<div style=\"border:1px solid black; padding:10px;\">\n",
    "\n",
    "<span style=\"color:blue\"> [L1] </span>\n",
    "We introduce Group Relative Policy Optimization (<strong>GRPO), an efficient and effective</strong> reinforcement learning algorithm.\n",
    "</div>\n"
   ]
  },
  {
   "cell_type": "markdown",
   "id": "40bfd205",
   "metadata": {
    "papermill": {
     "duration": 0.016947,
     "end_time": "2024-04-30T19:03:50.444679",
     "exception": false,
     "start_time": "2024-04-30T19:03:50.427732",
     "status": "completed"
    },
    "tags": []
   },
   "source": [
    "<div style=\"border:1px solid black; padding:10px;\">\n",
    "\n",
    "<span style=\"color:blue\"> [L2] </span>\n",
    "<strong>GRPO</strong> foregoes the critic model, instead estimating\n",
    "the baseline from group scores, <strong>significantly reducing training resources</strong> compared to\n",
    "Proximal Policy Optimization (<strong>PPO</strong>).\n",
    "    \n",
    "</div>\n"
   ]
  },
  {
   "cell_type": "markdown",
   "id": "28546dac",
   "metadata": {
    "papermill": {
     "duration": 0.016844,
     "end_time": "2024-04-30T19:03:50.478621",
     "exception": false,
     "start_time": "2024-04-30T19:03:50.461777",
     "status": "completed"
    },
    "tags": []
   },
   "source": [
    "# Paragraph 12"
   ]
  },
  {
   "cell_type": "markdown",
   "id": "ba25d978",
   "metadata": {
    "papermill": {
     "duration": 0.016811,
     "end_time": "2024-04-30T19:03:50.512668",
     "exception": false,
     "start_time": "2024-04-30T19:03:50.495857",
     "status": "completed"
    },
    "tags": []
   },
   "source": [
    "<div style=\"border:1px solid black; padding:10px;\">\n",
    "\n",
    "<span style=\"color:blue\"> [L1] </span>\n",
    "We demonstrate that <strong>GRPO</strong> significantly <strong>enhances the performance</strong> of our instruction-tuned model DeepSeekMath-Instruct, by solely using the instruction-tuning data.\n",
    "</div>\n"
   ]
  },
  {
   "cell_type": "markdown",
   "id": "6722a27b",
   "metadata": {
    "papermill": {
     "duration": 0.017306,
     "end_time": "2024-04-30T19:03:50.546928",
     "exception": false,
     "start_time": "2024-04-30T19:03:50.529622",
     "status": "completed"
    },
    "tags": []
   },
   "source": [
    "<div style=\"border:1px solid black; padding:10px;\">\n",
    "\n",
    "<span style=\"color:blue\"> [L1] </span>\n",
    "Furthermore, we observe <strong>enhancements in the out-of-domain</strong> performance during the reinforcement learning process.\n",
    "</div>\n"
   ]
  },
  {
   "cell_type": "markdown",
   "id": "b969763a",
   "metadata": {
    "papermill": {
     "duration": 0.016904,
     "end_time": "2024-04-30T19:03:50.581690",
     "exception": false,
     "start_time": "2024-04-30T19:03:50.564786",
     "status": "completed"
    },
    "tags": []
   },
   "source": [
    "# Paragraph 13"
   ]
  },
  {
   "cell_type": "markdown",
   "id": "bb176e7d",
   "metadata": {
    "papermill": {
     "duration": 0.017458,
     "end_time": "2024-04-30T19:03:50.617319",
     "exception": false,
     "start_time": "2024-04-30T19:03:50.599861",
     "status": "completed"
    },
    "tags": []
   },
   "source": [
    "<div style=\"border:1px solid black; padding:10px;\">\n",
    "\n",
    "<span style=\"color:blue\"> [L1] </span>\n",
    "We provide a <strong>unified paradigm</strong> to understand different methods, such as RFT, DPO, PPO, and GRPO. \n",
    "</div>\n"
   ]
  },
  {
   "cell_type": "markdown",
   "id": "cb937262",
   "metadata": {
    "papermill": {
     "duration": 0.016893,
     "end_time": "2024-04-30T19:03:50.651955",
     "exception": false,
     "start_time": "2024-04-30T19:03:50.635062",
     "status": "completed"
    },
    "tags": []
   },
   "source": [
    "<div style=\"border:1px solid black; padding:10px;\">\n",
    "\n",
    "<span style=\"color:blue\"> [L2] </span>\n",
    "e also conduct <strong>extensive experiments</strong>, e.g., online v.s. offline training,\n",
    "outcome v.s. process supervision, single-turn v.s. iterative reinforcement learning, and so\n",
    "on to deeply investigate the essential elements of this paradigm.\n",
    "</div>\n"
   ]
  },
  {
   "cell_type": "markdown",
   "id": "15e5fe94",
   "metadata": {
    "papermill": {
     "duration": 0.016952,
     "end_time": "2024-04-30T19:03:50.686024",
     "exception": false,
     "start_time": "2024-04-30T19:03:50.669072",
     "status": "completed"
    },
    "tags": []
   },
   "source": [
    "# Paragraph 14"
   ]
  },
  {
   "cell_type": "markdown",
   "id": "ef6bd5bb",
   "metadata": {
    "papermill": {
     "duration": 0.017307,
     "end_time": "2024-04-30T19:03:50.720872",
     "exception": false,
     "start_time": "2024-04-30T19:03:50.703565",
     "status": "completed"
    },
    "tags": []
   },
   "source": [
    "<div style=\"border:1px solid black; padding:10px;\">\n",
    "\n",
    "<span style=\"color:blue\"> [L1] </span>\n",
    "Based on our unified paradigm, we explore the <strong>reasons</strong> behind the <strong>effectiveness</strong> of reinforcement learning, and summarize several potential <strong>directions</strong> to achieve <strong>more effective</strong> reinforcement learning of LLMs.\n",
    "</div>\n"
   ]
  },
  {
   "cell_type": "markdown",
   "id": "67c9b3b9",
   "metadata": {
    "papermill": {
     "duration": 0.016891,
     "end_time": "2024-04-30T19:03:50.755303",
     "exception": false,
     "start_time": "2024-04-30T19:03:50.738412",
     "status": "completed"
    },
    "tags": []
   },
   "source": [
    "# 1.2. Summary of Evaluations and Metrics"
   ]
  },
  {
   "cell_type": "markdown",
   "id": "d4412f8d",
   "metadata": {
    "papermill": {
     "duration": 0.017237,
     "end_time": "2024-04-30T19:03:50.789714",
     "exception": false,
     "start_time": "2024-04-30T19:03:50.772477",
     "status": "completed"
    },
    "tags": []
   },
   "source": [
    "# English and Chinese Mathematical Reasoning:"
   ]
  },
  {
   "cell_type": "markdown",
   "id": "2055197c",
   "metadata": {
    "papermill": {
     "duration": 0.017396,
     "end_time": "2024-04-30T19:03:50.824529",
     "exception": false,
     "start_time": "2024-04-30T19:03:50.807133",
     "status": "completed"
    },
    "tags": []
   },
   "source": [
    "# Paragraph 15"
   ]
  },
  {
   "cell_type": "markdown",
   "id": "207e32b6",
   "metadata": {
    "execution": {
     "iopub.execute_input": "2024-04-27T09:16:14.530149Z",
     "iopub.status.busy": "2024-04-27T09:16:14.529623Z",
     "iopub.status.idle": "2024-04-27T09:16:14.542740Z",
     "shell.execute_reply": "2024-04-27T09:16:14.541441Z",
     "shell.execute_reply.started": "2024-04-27T09:16:14.530114Z"
    },
    "papermill": {
     "duration": 0.017409,
     "end_time": "2024-04-30T19:03:50.859286",
     "exception": false,
     "start_time": "2024-04-30T19:03:50.841877",
     "status": "completed"
    },
    "tags": []
   },
   "source": [
    "<div style=\"border:1px solid black; padding:10px;\">\n",
    "\n",
    "<span style=\"color:blue\"> [L1] </span>\n",
    "We conduct <strong>comprehensive assessments</strong>\n",
    "of our models on <strong>English and Chinese benchmarks</strong>, covering mathematical problems from <strong>grade-school level to college level.</strong>\n",
    "</div>\n"
   ]
  },
  {
   "cell_type": "markdown",
   "id": "0e8b33cf",
   "metadata": {
    "papermill": {
     "duration": 0.016525,
     "end_time": "2024-04-30T19:03:50.892818",
     "exception": false,
     "start_time": "2024-04-30T19:03:50.876293",
     "status": "completed"
    },
    "tags": []
   },
   "source": [
    "<div style=\"border:1px solid black; padding:10px;\">\n",
    "\n",
    "<span style=\"color:blue\"> [L2] </span>\n",
    " <strong>English benchmarks</strong> include GSM8K (Cobbe\n",
    "et al., 2021), MATH (Hendrycks et al., 2021), SAT (Azerbayev et al., 2023), OCW Courses\n",
    "(Lewkowycz et al., 2022a), MMLU-STEM (Hendrycks et al., 2020). \n",
    "</div>\n"
   ]
  },
  {
   "cell_type": "markdown",
   "id": "10d52d96",
   "metadata": {
    "papermill": {
     "duration": 0.01671,
     "end_time": "2024-04-30T19:03:50.926532",
     "exception": false,
     "start_time": "2024-04-30T19:03:50.909822",
     "status": "completed"
    },
    "tags": []
   },
   "source": [
    "<div style=\"border:1px solid black; padding:10px;\">\n",
    "\n",
    "<span style=\"color:blue\"> [L3] </span>\n",
    "<strong>Chinese benchmarks</strong>\n",
    "include MGSM-zh (Shi et al., 2023), CMATH (Wei et al., 2023), Gaokao-MathCloze (Zhong\n",
    "et al., 2023), and Gaokao-MathQA (Zhong et al., 2023). \n",
    "</div>"
   ]
  },
  {
   "cell_type": "markdown",
   "id": "2c1b6943",
   "metadata": {
    "execution": {
     "iopub.execute_input": "2024-04-27T09:17:02.278203Z",
     "iopub.status.busy": "2024-04-27T09:17:02.277823Z",
     "iopub.status.idle": "2024-04-27T09:17:02.284283Z",
     "shell.execute_reply": "2024-04-27T09:17:02.283020Z",
     "shell.execute_reply.started": "2024-04-27T09:17:02.278170Z"
    },
    "papermill": {
     "duration": 0.016616,
     "end_time": "2024-04-30T19:03:50.960108",
     "exception": false,
     "start_time": "2024-04-30T19:03:50.943492",
     "status": "completed"
    },
    "tags": []
   },
   "source": [
    "<div style=\"border:1px solid black; padding:10px;\">\n",
    "\n",
    "<span style=\"color:blue\"> [L4] </span>\n",
    "We <strong>evaluate</strong> models’ ability\n",
    "to generate self-contained text solutions <strong>without tool</strong> use, and also the ability to solve\n",
    "problems <strong>using Python</strong>.\n",
    "</div>"
   ]
  },
  {
   "cell_type": "markdown",
   "id": "11512acd",
   "metadata": {
    "papermill": {
     "duration": 0.018252,
     "end_time": "2024-04-30T19:03:50.995371",
     "exception": false,
     "start_time": "2024-04-30T19:03:50.977119",
     "status": "completed"
    },
    "tags": []
   },
   "source": [
    "# Paragraph 16"
   ]
  },
  {
   "cell_type": "markdown",
   "id": "84580ac0",
   "metadata": {
    "papermill": {
     "duration": 0.016849,
     "end_time": "2024-04-30T19:03:51.029398",
     "exception": false,
     "start_time": "2024-04-30T19:03:51.012549",
     "status": "completed"
    },
    "tags": []
   },
   "source": [
    "<div style=\"border:1px solid black; padding:10px;\">\n",
    "\n",
    "<span style=\"color:blue\"> [L1] </span>\n",
    "On <strong>English benchmarks</strong>, DeepSeekMath-Base is competitive with the closed-source Min-\n",
    "erva 540B (Lewkowycz et al., 2022a), and surpasses all open-source base models (e.g., Mis-\n",
    "tral 7B (Jiang et al., 2023) and Llemma-34B (Azerbayev et al., 2023)), regardless of whether\n",
    "they’ve undergone math pre-training or not, often by a significant margin. \n",
    "</div>"
   ]
  },
  {
   "cell_type": "markdown",
   "id": "ba9934c1",
   "metadata": {
    "execution": {
     "iopub.execute_input": "2024-04-27T09:21:31.728710Z",
     "iopub.status.busy": "2024-04-27T09:21:31.728390Z",
     "iopub.status.idle": "2024-04-27T09:21:31.735437Z",
     "shell.execute_reply": "2024-04-27T09:21:31.734179Z",
     "shell.execute_reply.started": "2024-04-27T09:21:31.728687Z"
    },
    "papermill": {
     "duration": 0.016609,
     "end_time": "2024-04-30T19:03:51.063316",
     "exception": false,
     "start_time": "2024-04-30T19:03:51.046707",
     "status": "completed"
    },
    "tags": []
   },
   "source": [
    "<div style=\"border:1px solid black; padding:10px;\">\n",
    "\n",
    "<span style=\"color:blue\"> [L2] </span>\n",
    "Notably, DeepSeekMath-Base is superior on <strong>Chinese benchmarks</strong>, likely because we <strong>don’t</strong> follow\n",
    "previous works (Azerbayev et al., 2023; Lewkowycz et al., 2022a) to <strong>collect English-only</strong>\n",
    "math pre-training data, and also include high-quality non-English ones.\n",
    "</div>"
   ]
  },
  {
   "cell_type": "markdown",
   "id": "ad3313d6",
   "metadata": {
    "papermill": {
     "duration": 0.017314,
     "end_time": "2024-04-30T19:03:51.098209",
     "exception": false,
     "start_time": "2024-04-30T19:03:51.080895",
     "status": "completed"
    },
    "tags": []
   },
   "source": [
    "<div style=\"border:1px solid black; padding:10px;\">\n",
    "\n",
    "<span style=\"color:blue\"> [L3] </span>\n",
    "With mathematical instruction tuning and reinforcement learning, the resulting <strong>DeepSeekMath-Instruct\n",
    "and DeepSeekMath-RL</strong> demonstrate <strong>strong performance</strong>, obtaining an <strong>accuracy</strong> of over\n",
    "<strong>50%</strong> on the competition-level MATH dataset for the <strong>first</strong> time within the <strong>open-source</strong>\n",
    "community.\n",
    "</div>"
   ]
  },
  {
   "cell_type": "markdown",
   "id": "58c3b19b",
   "metadata": {
    "papermill": {
     "duration": 0.016698,
     "end_time": "2024-04-30T19:03:51.132007",
     "exception": false,
     "start_time": "2024-04-30T19:03:51.115309",
     "status": "completed"
    },
    "tags": []
   },
   "source": [
    "# Paragraph 17"
   ]
  },
  {
   "cell_type": "markdown",
   "id": "2dce9080",
   "metadata": {
    "papermill": {
     "duration": 0.016749,
     "end_time": "2024-04-30T19:03:51.166702",
     "exception": false,
     "start_time": "2024-04-30T19:03:51.149953",
     "status": "completed"
    },
    "tags": []
   },
   "source": [
    "# Formal Mathematics"
   ]
  },
  {
   "cell_type": "markdown",
   "id": "598ffed3",
   "metadata": {
    "papermill": {
     "duration": 0.016978,
     "end_time": "2024-04-30T19:03:51.200667",
     "exception": false,
     "start_time": "2024-04-30T19:03:51.183689",
     "status": "completed"
    },
    "tags": []
   },
   "source": [
    "<div style=\"border:1px solid black; padding:10px;\">\n",
    "\n",
    "<span style=\"color:blue\"> [L1] </span>\n",
    "We evaluate DeepSeekMath-Base using the <strong>informal-to-formal theorem</strong> proving task from (Jiang et al., 2022) on miniF2F (Zheng et al., 2021) with Isabelle (Wenzel et al., 2008) chosen to be the proof assistant.\n",
    "</div>"
   ]
  },
  {
   "cell_type": "markdown",
   "id": "fb4d1982",
   "metadata": {
    "papermill": {
     "duration": 0.016961,
     "end_time": "2024-04-30T19:03:51.234810",
     "exception": false,
     "start_time": "2024-04-30T19:03:51.217849",
     "status": "completed"
    },
    "tags": []
   },
   "source": [
    "<div style=\"border:1px solid black; padding:10px;\">\n",
    "\n",
    "<span style=\"color:blue\"> [L2] </span>\n",
    "DeepSeekMath-Base demonstrates <strong>strong few-shot</strong> autoformalization performance.\n",
    "</div>\n",
    "\n"
   ]
  },
  {
   "cell_type": "markdown",
   "id": "216bffde",
   "metadata": {
    "papermill": {
     "duration": 0.016939,
     "end_time": "2024-04-30T19:03:51.269165",
     "exception": false,
     "start_time": "2024-04-30T19:03:51.252226",
     "status": "completed"
    },
    "tags": []
   },
   "source": [
    "# Paragraph 18"
   ]
  },
  {
   "cell_type": "markdown",
   "id": "779b01f1",
   "metadata": {
    "papermill": {
     "duration": 0.016697,
     "end_time": "2024-04-30T19:03:51.302851",
     "exception": false,
     "start_time": "2024-04-30T19:03:51.286154",
     "status": "completed"
    },
    "tags": []
   },
   "source": [
    "# Natural Language Understanding, Reasoning, and Code:"
   ]
  },
  {
   "cell_type": "markdown",
   "id": "1df229fc",
   "metadata": {
    "papermill": {
     "duration": 0.016855,
     "end_time": "2024-04-30T19:03:51.336773",
     "exception": false,
     "start_time": "2024-04-30T19:03:51.319918",
     "status": "completed"
    },
    "tags": []
   },
   "source": [
    "<div style=\"border:1px solid black; padding:10px;\">\n",
    "\n",
    "<span style=\"color:blue\"> [L1] </span>\n",
    "To build a comprehensive profile of models’general understanding, reasoning, and coding capabilities, we evaluate DeepSeekMath-Base on the Massive Multitask Language Understanding (<strong>MMLU</strong>) benchmark (Hendrycks et al., 2020) which encompasses 57 multiple-choice tasks covering diverse subjects, BIG-Bench Hard (<strong>BBH</strong>) (Suzgun et al., 2022) which consists of 23 challenging tasks that mostly require multi-step reasoning to solve, as well as <strong>HumanEval</strong> (Chen et al., 2021) and <strong>MBPP</strong> (Austin et al., 2021) which are widely used to evaluate code language models. \n",
    "\n",
    "</div>"
   ]
  },
  {
   "cell_type": "markdown",
   "id": "a7d263bf",
   "metadata": {
    "papermill": {
     "duration": 0.016739,
     "end_time": "2024-04-30T19:03:51.370473",
     "exception": false,
     "start_time": "2024-04-30T19:03:51.353734",
     "status": "completed"
    },
    "tags": []
   },
   "source": [
    "<div style=\"border:1px solid black; padding:10px;\">\n",
    "\n",
    "<span style=\"color:blue\"> [L2] </span>\n",
    "Math pre-training <strong>benefits</strong> both language <strong>understanding and reasoning</srong>\n",
    "performance.\n",
    "</div>"
   ]
  }
 ],
 "metadata": {
  "kaggle": {
   "accelerator": "none",
   "dataSources": [
    {
     "databundleVersionId": 8365361,
     "sourceId": 73231,
     "sourceType": "competition"
    }
   ],
   "dockerImageVersionId": 30698,
   "isGpuEnabled": false,
   "isInternetEnabled": true,
   "language": "python",
   "sourceType": "notebook"
  },
  "kernelspec": {
   "display_name": "Python 3",
   "language": "python",
   "name": "python3"
  },
  "language_info": {
   "codemirror_mode": {
    "name": "ipython",
    "version": 3
   },
   "file_extension": ".py",
   "mimetype": "text/x-python",
   "name": "python",
   "nbconvert_exporter": "python",
   "pygments_lexer": "ipython3",
   "version": "3.10.13"
  },
  "papermill": {
   "default_parameters": {},
   "duration": 8.324082,
   "end_time": "2024-04-30T19:03:52.010542",
   "environment_variables": {},
   "exception": null,
   "input_path": "__notebook__.ipynb",
   "output_path": "__notebook__.ipynb",
   "parameters": {},
   "start_time": "2024-04-30T19:03:43.686460",
   "version": "2.5.0"
  }
 },
 "nbformat": 4,
 "nbformat_minor": 5
}
